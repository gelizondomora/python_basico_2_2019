{
 "cells": [
  {
   "cell_type": "markdown",
   "metadata": {},
   "source": [
    "Proyecto Final (Tarea)"
   ]
  },
  {
   "cell_type": "markdown",
   "metadata": {},
   "source": [
    "Definir clases"
   ]
  },
  {
   "cell_type": "code",
   "execution_count": null,
   "metadata": {},
   "outputs": [],
   "source": [
    "import random\n",
    "import math\n",
    "import pandas as pd\n",
    "\n",
    "\n",
    "fuerza_del_motor = random.randint(0,9)\n",
    "\n",
    "class misc:\n",
    "    def __repr__(self):\n",
    "        # return the clase name\n",
    "        return self.__class__.__name__\n",
    "\n",
    "    def __str__(self):\n",
    "        # return the clase name\n",
    "        return self.__class__.__name__\n",
    "\n",
    "\n",
    "class Camion(misc):\n",
    "    fuerza_del_motor = random.randint(0, 9)\n",
    "    def Rendimiento(self):\n",
    "        rendimiento = 2*fuerza_del_motor + 1\n",
    "        return rendimiento\n",
    "\n",
    "class Tractor(misc):\n",
    "    fuerza_del_motor = random.randint(0, 9)\n",
    "    def Rendimiento(self):\n",
    "        rendimiento = math.floor(math.log(2)*fuerza_del_motor)\n",
    "        return rendimiento\n",
    "\n",
    "class Sedan(misc):\n",
    "    fuerza_del_motor = random.randint(0, 9)\n",
    "    def Rendimiento(self):\n",
    "        rendimiento = 3*(fuerza_del_motor)**2\n",
    "        return rendimiento\n",
    "\n",
    "class Bus(misc):\n",
    "    fuerza_del_motor = random.randint(0, 9)\n",
    "    def Rendimiento(self):\n",
    "        rendimiento = 5*(fuerza_del_motor)\n",
    "        return rendimiento\n",
    "\n",
    "\n"
   ]
  },
  {
   "cell_type": "markdown",
   "metadata": {},
   "source": [
    "Asignar clases"
   ]
  },
  {
   "cell_type": "code",
   "execution_count": null,
   "metadata": {},
   "outputs": [],
   "source": [
    "camion = Camion()\n",
    "tractor = Tractor()\n",
    "sedan =Sedan()\n",
    "bus = Bus()\n"
   ]
  },
  {
   "cell_type": "markdown",
   "metadata": {},
   "source": [
    "Definicion de variables"
   ]
  },
  {
   "cell_type": "code",
   "execution_count": null,
   "metadata": {},
   "outputs": [],
   "source": [
    "meta = 1000\n",
    "fila = [camion,tractor,sedan,bus]\n",
    "df = pd.DataFrame(columns=fila)\n",
    "contador = pd.array([0,0,0,0])\n",
    "suma= pd.array([0,0,0,0])\n",
    "cabeza = 0\n",
    "index = 0\n",
    "index_2 = 0"
   ]
  },
  {
   "cell_type": "markdown",
   "metadata": {},
   "source": [
    "Iteracion de las funciones de las clases hasta que alguno supere la distancia de 1000"
   ]
  },
  {
   "cell_type": "code",
   "execution_count": null,
   "metadata": {},
   "outputs": [],
   "source": [
    "while cabeza <= meta:\n",
    "    for i in fila:\n",
    "        contador[index] = i.Rendimiento()\n",
    "        index += 1\n",
    "    suma = suma + contador\n",
    "    df.loc[index_2] = suma\n",
    "    index = 0\n",
    "    index_2 += 1\n",
    "    cabeza = max(suma)"
   ]
  },
  {
   "cell_type": "markdown",
   "metadata": {},
   "source": [
    "Formateo de los resultados"
   ]
  },
  {
   "cell_type": "code",
   "execution_count": null,
   "metadata": {},
   "outputs": [],
   "source": [
    "ultima = df.tail(n=1)\n",
    "ultima = ultima.astype('float64')\n",
    "ultima = ultima.idxmax(axis=1)\n",
    "eficiencia= df.sum()"
   ]
  },
  {
   "cell_type": "markdown",
   "metadata": {},
   "source": [
    "Presentacion de los resultados"
   ]
  },
  {
   "cell_type": "code",
   "execution_count": null,
   "metadata": {},
   "outputs": [],
   "source": [
    "print(\"El ganador es :\",ultima.to_string(index=False))\n",
    "\n",
    "print(\"La eficiencia maxima por vehiculo es:\\n\",efciencia)\n",
    "\n",
    "print(\"Se corrieron \",df.shape[0],\" ciclos\")"
   ]
  }
 ],
 "metadata": {
  "kernelspec": {
   "display_name": "Python 3",
   "language": "python",
   "name": "python3"
  },
  "language_info": {
   "codemirror_mode": {
    "name": "ipython",
    "version": 3
   },
   "file_extension": ".py",
   "mimetype": "text/x-python",
   "name": "python",
   "nbconvert_exporter": "python",
   "pygments_lexer": "ipython3",
   "version": "3.6.4"
  }
 },
 "nbformat": 4,
 "nbformat_minor": 2
}
